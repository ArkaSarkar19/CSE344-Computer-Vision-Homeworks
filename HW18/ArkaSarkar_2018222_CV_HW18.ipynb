{
 "cells": [
  {
   "cell_type": "markdown",
   "metadata": {},
   "source": [
    "### CSE 344 : Computer Vision Homework 18\n",
    "**Name :** Arka sarkar <br>\n",
    "**Roll Number :** 2018222 <br>"
   ]
  },
  {
   "cell_type": "code",
   "execution_count": 1,
   "metadata": {},
   "outputs": [],
   "source": [
    "import numpy as np\n",
    "from scipy import signal\n",
    "x=np.array([[12 ,14 ,15 ,17],[34 ,56 ,73 ,32],[ 67 ,43 ,31 ,21],[32 ,31 ,43 ,56]])\n",
    "w=np.array([[-1 , 0],[0,-1]])\n",
    "b=0.3\n",
    "dy= np.array([[-2, 3, 4],[-1, 5, 3],[2, 3, 4]])"
   ]
  },
  {
   "cell_type": "markdown",
   "metadata": {},
   "source": [
    "#### Compute updated 'b' and 'w' in the current layer. [0.5 marks]"
   ]
  },
  {
   "cell_type": "code",
   "execution_count": 2,
   "metadata": {},
   "outputs": [
    {
     "name": "stdout",
     "output_type": "stream",
     "text": [
      "db :  21\n"
     ]
    }
   ],
   "source": [
    "# Calculation db\n",
    "db = np.sum(dy)\n",
    "print(\"db : \", db)"
   ]
  },
  {
   "cell_type": "code",
   "execution_count": 3,
   "metadata": {},
   "outputs": [
    {
     "name": "stdout",
     "output_type": "stream",
     "text": [
      "dw : \n",
      " [[764 859]\n",
      " [970 911]]\n"
     ]
    }
   ],
   "source": [
    "#Calculation dw\n",
    "dw = signal.convolve2d(x,dy,mode = \"valid\")\n",
    "\n",
    "print(\"dw : \\n\", dw)"
   ]
  },
  {
   "cell_type": "code",
   "execution_count": 4,
   "metadata": {},
   "outputs": [
    {
     "name": "stdout",
     "output_type": "stream",
     "text": [
      "updated w :\n",
      " [[-77.4 -85.9]\n",
      " [-97.  -92.1]]\n",
      "updated b :\n",
      " -1.8\n"
     ]
    }
   ],
   "source": [
    "#updating w and b\n",
    "learning_rate = 0.1 \n",
    "\n",
    "w_up = w - learning_rate*dw\n",
    "b_up = b - learning_rate*db\n",
    "\n",
    "print(\"updated w :\\n\", w_up)\n",
    "print(\"updated b :\\n\", b_up)\n"
   ]
  },
  {
   "cell_type": "markdown",
   "metadata": {},
   "source": [
    "#### Compute 'dy' for the next layer (in the backward direction) [0.5 marks]"
   ]
  },
  {
   "cell_type": "code",
   "execution_count": 5,
   "metadata": {},
   "outputs": [
    {
     "name": "stdout",
     "output_type": "stream",
     "text": [
      "dx : \n",
      " [[ 2. -3. -4.  0.]\n",
      " [ 1. -3. -6. -4.]\n",
      " [-2. -2. -9. -3.]\n",
      " [ 0. -2. -3. -4.]]\n"
     ]
    }
   ],
   "source": [
    "#calculating dx\n",
    "dy_0 = np.zeros((dy.shape[0]+2,dy.shape[1]+2 )) #padded dy\n",
    "dy_0[1:-1,1:-1] = dy\n",
    "w_prime = np.rot90(w,2)\n",
    "dx = signal.convolve2d(dy_0,w_prime, mode = \"valid\")\n",
    "\n",
    "print(\"dx : \\n\", dx)\n"
   ]
  },
  {
   "cell_type": "code",
   "execution_count": 6,
   "metadata": {},
   "outputs": [
    {
     "name": "stdout",
     "output_type": "stream",
     "text": [
      "x updated:\n",
      " [[11.8 14.3 15.4 17. ]\n",
      " [33.9 56.3 73.6 32.4]\n",
      " [67.2 43.2 31.9 21.3]\n",
      " [32.  31.2 43.3 56.4]]\n"
     ]
    }
   ],
   "source": [
    "x_up = x - learning_rate*dx\n",
    "print(\"x updated:\\n\", x_up)"
   ]
  },
  {
   "cell_type": "code",
   "execution_count": 7,
   "metadata": {},
   "outputs": [
    {
     "name": "stdout",
     "output_type": "stream",
     "text": [
      "dy for the next layer : \n",
      " [[ -9743.51 -13343.64 -11897.34]\n",
      " [-17699.45 -18504.37 -14310.19]\n",
      " [-15543.2  -13104.52 -13088.92]]\n"
     ]
    }
   ],
   "source": [
    "dy_new = signal.convolve2d(x_up, w_up, mode = \"valid\")\n",
    "print(\"dy for the next layer : \\n\", dy_new)"
   ]
  },
  {
   "cell_type": "code",
   "execution_count": null,
   "metadata": {},
   "outputs": [],
   "source": []
  }
 ],
 "metadata": {
  "kernelspec": {
   "display_name": "Python 3",
   "language": "python",
   "name": "python3"
  },
  "language_info": {
   "codemirror_mode": {
    "name": "ipython",
    "version": 3
   },
   "file_extension": ".py",
   "mimetype": "text/x-python",
   "name": "python",
   "nbconvert_exporter": "python",
   "pygments_lexer": "ipython3",
   "version": "3.7.4"
  }
 },
 "nbformat": 4,
 "nbformat_minor": 2
}
